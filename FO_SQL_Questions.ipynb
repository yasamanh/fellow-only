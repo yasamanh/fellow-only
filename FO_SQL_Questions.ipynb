{
 "cells": [
  {
   "cell_type": "code",
   "execution_count": 1,
   "metadata": {
    "collapsed": true,
    "deletable": true,
    "editable": true
   },
   "outputs": [],
   "source": [
    "%matplotlib inline\n",
    "import matplotlib\n",
    "import seaborn as sns\n",
    "matplotlib.rcParams['savefig.dpi'] = 144"
   ]
  },
  {
   "cell_type": "markdown",
   "metadata": {
    "deletable": true,
    "editable": true
   },
   "source": [
    "### SQL Questions\n",
    "\n",
    "Nearly every interview for a data analyst or data science position involves *some* sort of question about SQL, since it's the primary access method for many databases.  Please **DO NOT USE PANDAS**, and note you can use sql here by starting a block with `%%sql`\n",
    "\n",
    "Example answers are at the end, they're not the only way to do it, so as long as you get the same output you should be fine"
   ]
  },
  {
   "cell_type": "code",
   "execution_count": 6,
   "metadata": {
    "collapsed": false,
    "deletable": true,
    "editable": true
   },
   "outputs": [
    {
     "name": "stderr",
     "output_type": "stream",
     "text": [
      "/opt/conda/lib/python2.7/site-packages/IPython/config.py:13: ShimWarning: The `IPython.config` package has been deprecated since IPython 4.0. You should import from traitlets.config instead.\n",
      "  \"You should import from traitlets.config instead.\", ShimWarning)\n",
      "/opt/conda/lib/python2.7/site-packages/IPython/utils/traitlets.py:5: UserWarning: IPython.utils.traitlets has moved to a top-level traitlets package.\n",
      "  warn(\"IPython.utils.traitlets has moved to a top-level traitlets package.\")\n"
     ]
    },
    {
     "data": {
      "text/plain": [
       "u'Connected: None@testdb.sqlite'"
      ]
     },
     "execution_count": 6,
     "metadata": {},
     "output_type": "execute_result"
    }
   ],
   "source": [
    "%load_ext sql\n",
    "%sql sqlite:///testdb.sqlite"
   ]
  },
  {
   "cell_type": "code",
   "execution_count": 7,
   "metadata": {
    "collapsed": false,
    "deletable": true,
    "editable": true
   },
   "outputs": [
    {
     "name": "stdout",
     "output_type": "stream",
     "text": [
      "Done.\n",
      "Done.\n",
      "Done.\n",
      "Done.\n",
      "11 rows affected.\n",
      "21 rows affected.\n"
     ]
    },
    {
     "data": {
      "text/plain": [
       "[]"
      ]
     },
     "execution_count": 7,
     "metadata": {},
     "output_type": "execute_result"
    }
   ],
   "source": [
    "%%sql\n",
    "\n",
    "DROP TABLE IF EXISTS students;\n",
    "\n",
    "DROP TABLE IF EXISTS scores;\n",
    "\n",
    "CREATE TABLE students (\n",
    "    studentid        INTEGER PRIMARY KEY NOT NULL,\n",
    "    name              TEXT,\n",
    "    age               INTEGER NOT NULL,\n",
    "    state             TEXT\n",
    ");\n",
    "\n",
    "CREATE TABLE scores (\n",
    "    studentid        INTEGER NOT NULL,\n",
    "    datetaken        DATE NOT NULL,\n",
    "    math              INTEGER,\n",
    "    verbal            INTEGER,\n",
    "    writing           INTEGER\n",
    ");\n",
    "\n",
    "INSERT INTO students VALUES (234, 'Mary', 17, 'NY'), (333, 'Boba', 16, 'PA'), \n",
    "  (9128, 'Typhoid', 18, 'NY'), (777, 'Fett', 15, 'MD'), (1234, 'Allen', 16, 'CA'), \n",
    "  (7899, 'Alain', 17, 'OR'), (9981, 'Alan', 18, 'WA'), (4422, 'Zucher', 19, 'CA'),\n",
    "  (8675309, 'Jenny', 17, 'CA'), (666, 'Lou', 20, 'PA'), (5555, 'Daft', 17, 'WA');\n",
    "    \n",
    "INSERT INTO scores VALUES (234, '2016-06-01', 650, 720, NULL), \n",
    "   (234, '2016-05-17', 600, 550, 750), (234, '2016-04-12', 710, 500, 300), \n",
    "   (333, '2016-07-04', 650, 680, NULL), (333, '2016-06-04', 500, NULL, 670),\n",
    "   (9128, '2016-08-07', NULL, NULL, 650), (9128, '2016-05-05', 720, NULL, NULL),\n",
    "   (777, '2016-12-25', 650, 450, 530), (777, '2016-04-20', 420, 530, 640),\n",
    "   (1234, '2016-11-15', 730, 740, 710), (1234, '2016-10-10', 340, 350, 360),\n",
    "   (7899, '2016-10-02', 550, 750, 780), (7899, '2016-09-02', 650, 770, 790),\n",
    "   (9981, '2016-01-01', 500, 400, 300), (9981, '2015-01-01', 550, 350, 400),\n",
    "   (4422, '2016-07-04', 720, 740, 750), (4422, '2016-05-04', 650, 750, NULL),\n",
    "   (8675309, '2012-04-29', 500, 500, 510), (8675309, '2012-02-29', 600, NULL, 610),\n",
    "   (666, '2006-06-06', 666, 666, 666), (5555, '2016-08-12', 600, 500, NULL);"
   ]
  },
  {
   "cell_type": "markdown",
   "metadata": {
    "deletable": true,
    "editable": true
   },
   "source": [
    "In case you want to determine what the correct results should be (which isn't hard with this small of a table):"
   ]
  },
  {
   "cell_type": "code",
   "execution_count": 8,
   "metadata": {
    "collapsed": false,
    "deletable": true,
    "editable": true
   },
   "outputs": [
    {
     "name": "stdout",
     "output_type": "stream",
     "text": [
      "Done.\n"
     ]
    },
    {
     "data": {
      "text/html": [
       "<table>\n",
       "    <tr>\n",
       "        <th>studentid</th>\n",
       "        <th>name</th>\n",
       "        <th>age</th>\n",
       "        <th>state</th>\n",
       "    </tr>\n",
       "    <tr>\n",
       "        <td>234</td>\n",
       "        <td>Mary</td>\n",
       "        <td>17</td>\n",
       "        <td>NY</td>\n",
       "    </tr>\n",
       "    <tr>\n",
       "        <td>333</td>\n",
       "        <td>Boba</td>\n",
       "        <td>16</td>\n",
       "        <td>PA</td>\n",
       "    </tr>\n",
       "    <tr>\n",
       "        <td>666</td>\n",
       "        <td>Lou</td>\n",
       "        <td>20</td>\n",
       "        <td>PA</td>\n",
       "    </tr>\n",
       "    <tr>\n",
       "        <td>777</td>\n",
       "        <td>Fett</td>\n",
       "        <td>15</td>\n",
       "        <td>MD</td>\n",
       "    </tr>\n",
       "    <tr>\n",
       "        <td>1234</td>\n",
       "        <td>Allen</td>\n",
       "        <td>16</td>\n",
       "        <td>CA</td>\n",
       "    </tr>\n",
       "    <tr>\n",
       "        <td>4422</td>\n",
       "        <td>Zucher</td>\n",
       "        <td>19</td>\n",
       "        <td>CA</td>\n",
       "    </tr>\n",
       "    <tr>\n",
       "        <td>5555</td>\n",
       "        <td>Daft</td>\n",
       "        <td>17</td>\n",
       "        <td>WA</td>\n",
       "    </tr>\n",
       "    <tr>\n",
       "        <td>7899</td>\n",
       "        <td>Alain</td>\n",
       "        <td>17</td>\n",
       "        <td>OR</td>\n",
       "    </tr>\n",
       "    <tr>\n",
       "        <td>9128</td>\n",
       "        <td>Typhoid</td>\n",
       "        <td>18</td>\n",
       "        <td>NY</td>\n",
       "    </tr>\n",
       "    <tr>\n",
       "        <td>9981</td>\n",
       "        <td>Alan</td>\n",
       "        <td>18</td>\n",
       "        <td>WA</td>\n",
       "    </tr>\n",
       "    <tr>\n",
       "        <td>8675309</td>\n",
       "        <td>Jenny</td>\n",
       "        <td>17</td>\n",
       "        <td>CA</td>\n",
       "    </tr>\n",
       "</table>"
      ],
      "text/plain": [
       "[(234, u'Mary', 17, u'NY'),\n",
       " (333, u'Boba', 16, u'PA'),\n",
       " (666, u'Lou', 20, u'PA'),\n",
       " (777, u'Fett', 15, u'MD'),\n",
       " (1234, u'Allen', 16, u'CA'),\n",
       " (4422, u'Zucher', 19, u'CA'),\n",
       " (5555, u'Daft', 17, u'WA'),\n",
       " (7899, u'Alain', 17, u'OR'),\n",
       " (9128, u'Typhoid', 18, u'NY'),\n",
       " (9981, u'Alan', 18, u'WA'),\n",
       " (8675309, u'Jenny', 17, u'CA')]"
      ]
     },
     "execution_count": 8,
     "metadata": {},
     "output_type": "execute_result"
    }
   ],
   "source": [
    "%%sql\n",
    "SELECT * FROM students;"
   ]
  },
  {
   "cell_type": "code",
   "execution_count": 9,
   "metadata": {
    "collapsed": false,
    "deletable": true,
    "editable": true
   },
   "outputs": [
    {
     "name": "stdout",
     "output_type": "stream",
     "text": [
      "Done.\n"
     ]
    },
    {
     "data": {
      "text/html": [
       "<table>\n",
       "    <tr>\n",
       "        <th>studentid</th>\n",
       "        <th>datetaken</th>\n",
       "        <th>math</th>\n",
       "        <th>verbal</th>\n",
       "        <th>writing</th>\n",
       "    </tr>\n",
       "    <tr>\n",
       "        <td>234</td>\n",
       "        <td>2016-04-12</td>\n",
       "        <td>710</td>\n",
       "        <td>500</td>\n",
       "        <td>300</td>\n",
       "    </tr>\n",
       "    <tr>\n",
       "        <td>234</td>\n",
       "        <td>2016-05-17</td>\n",
       "        <td>600</td>\n",
       "        <td>550</td>\n",
       "        <td>750</td>\n",
       "    </tr>\n",
       "    <tr>\n",
       "        <td>234</td>\n",
       "        <td>2016-06-01</td>\n",
       "        <td>650</td>\n",
       "        <td>720</td>\n",
       "        <td>None</td>\n",
       "    </tr>\n",
       "    <tr>\n",
       "        <td>333</td>\n",
       "        <td>2016-06-04</td>\n",
       "        <td>500</td>\n",
       "        <td>None</td>\n",
       "        <td>670</td>\n",
       "    </tr>\n",
       "    <tr>\n",
       "        <td>333</td>\n",
       "        <td>2016-07-04</td>\n",
       "        <td>650</td>\n",
       "        <td>680</td>\n",
       "        <td>None</td>\n",
       "    </tr>\n",
       "    <tr>\n",
       "        <td>666</td>\n",
       "        <td>2006-06-06</td>\n",
       "        <td>666</td>\n",
       "        <td>666</td>\n",
       "        <td>666</td>\n",
       "    </tr>\n",
       "    <tr>\n",
       "        <td>777</td>\n",
       "        <td>2016-04-20</td>\n",
       "        <td>420</td>\n",
       "        <td>530</td>\n",
       "        <td>640</td>\n",
       "    </tr>\n",
       "    <tr>\n",
       "        <td>777</td>\n",
       "        <td>2016-12-25</td>\n",
       "        <td>650</td>\n",
       "        <td>450</td>\n",
       "        <td>530</td>\n",
       "    </tr>\n",
       "    <tr>\n",
       "        <td>1234</td>\n",
       "        <td>2016-10-10</td>\n",
       "        <td>340</td>\n",
       "        <td>350</td>\n",
       "        <td>360</td>\n",
       "    </tr>\n",
       "    <tr>\n",
       "        <td>1234</td>\n",
       "        <td>2016-11-15</td>\n",
       "        <td>730</td>\n",
       "        <td>740</td>\n",
       "        <td>710</td>\n",
       "    </tr>\n",
       "    <tr>\n",
       "        <td>4422</td>\n",
       "        <td>2016-05-04</td>\n",
       "        <td>650</td>\n",
       "        <td>750</td>\n",
       "        <td>None</td>\n",
       "    </tr>\n",
       "    <tr>\n",
       "        <td>4422</td>\n",
       "        <td>2016-07-04</td>\n",
       "        <td>720</td>\n",
       "        <td>740</td>\n",
       "        <td>750</td>\n",
       "    </tr>\n",
       "    <tr>\n",
       "        <td>5555</td>\n",
       "        <td>2016-08-12</td>\n",
       "        <td>600</td>\n",
       "        <td>500</td>\n",
       "        <td>None</td>\n",
       "    </tr>\n",
       "    <tr>\n",
       "        <td>7899</td>\n",
       "        <td>2016-09-02</td>\n",
       "        <td>650</td>\n",
       "        <td>770</td>\n",
       "        <td>790</td>\n",
       "    </tr>\n",
       "    <tr>\n",
       "        <td>7899</td>\n",
       "        <td>2016-10-02</td>\n",
       "        <td>550</td>\n",
       "        <td>750</td>\n",
       "        <td>780</td>\n",
       "    </tr>\n",
       "    <tr>\n",
       "        <td>9128</td>\n",
       "        <td>2016-05-05</td>\n",
       "        <td>720</td>\n",
       "        <td>None</td>\n",
       "        <td>None</td>\n",
       "    </tr>\n",
       "    <tr>\n",
       "        <td>9128</td>\n",
       "        <td>2016-08-07</td>\n",
       "        <td>None</td>\n",
       "        <td>None</td>\n",
       "        <td>650</td>\n",
       "    </tr>\n",
       "    <tr>\n",
       "        <td>9981</td>\n",
       "        <td>2015-01-01</td>\n",
       "        <td>550</td>\n",
       "        <td>350</td>\n",
       "        <td>400</td>\n",
       "    </tr>\n",
       "    <tr>\n",
       "        <td>9981</td>\n",
       "        <td>2016-01-01</td>\n",
       "        <td>500</td>\n",
       "        <td>400</td>\n",
       "        <td>300</td>\n",
       "    </tr>\n",
       "    <tr>\n",
       "        <td>8675309</td>\n",
       "        <td>2012-02-29</td>\n",
       "        <td>600</td>\n",
       "        <td>None</td>\n",
       "        <td>610</td>\n",
       "    </tr>\n",
       "    <tr>\n",
       "        <td>8675309</td>\n",
       "        <td>2012-04-29</td>\n",
       "        <td>500</td>\n",
       "        <td>500</td>\n",
       "        <td>510</td>\n",
       "    </tr>\n",
       "</table>"
      ],
      "text/plain": [
       "[(234, u'2016-04-12', 710, 500, 300),\n",
       " (234, u'2016-05-17', 600, 550, 750),\n",
       " (234, u'2016-06-01', 650, 720, None),\n",
       " (333, u'2016-06-04', 500, None, 670),\n",
       " (333, u'2016-07-04', 650, 680, None),\n",
       " (666, u'2006-06-06', 666, 666, 666),\n",
       " (777, u'2016-04-20', 420, 530, 640),\n",
       " (777, u'2016-12-25', 650, 450, 530),\n",
       " (1234, u'2016-10-10', 340, 350, 360),\n",
       " (1234, u'2016-11-15', 730, 740, 710),\n",
       " (4422, u'2016-05-04', 650, 750, None),\n",
       " (4422, u'2016-07-04', 720, 740, 750),\n",
       " (5555, u'2016-08-12', 600, 500, None),\n",
       " (7899, u'2016-09-02', 650, 770, 790),\n",
       " (7899, u'2016-10-02', 550, 750, 780),\n",
       " (9128, u'2016-05-05', 720, None, None),\n",
       " (9128, u'2016-08-07', None, None, 650),\n",
       " (9981, u'2015-01-01', 550, 350, 400),\n",
       " (9981, u'2016-01-01', 500, 400, 300),\n",
       " (8675309, u'2012-02-29', 600, None, 610),\n",
       " (8675309, u'2012-04-29', 500, 500, 510)]"
      ]
     },
     "execution_count": 9,
     "metadata": {},
     "output_type": "execute_result"
    }
   ],
   "source": [
    "%%sql\n",
    "\n",
    "SELECT * FROM scores ORDER BY studentid, datetaken;"
   ]
  },
  {
   "cell_type": "markdown",
   "metadata": {
    "deletable": true,
    "editable": true
   },
   "source": [
    "Given the above tables for student demographics and (presumably SAT) scores, let's look at extracting some information about how people performed.\n",
    "\n",
    "Question 1:\n",
    "\n",
    "Find how many students are from the west coast (defined as state being CA, WA, OR)"
   ]
  },
  {
   "cell_type": "code",
   "execution_count": 10,
   "metadata": {
    "collapsed": false
   },
   "outputs": [
    {
     "name": "stdout",
     "output_type": "stream",
     "text": [
      "Done.\n"
     ]
    },
    {
     "data": {
      "text/html": [
       "<table>\n",
       "    <tr>\n",
       "        <th>studentid</th>\n",
       "    </tr>\n",
       "    <tr>\n",
       "        <td>1234</td>\n",
       "    </tr>\n",
       "    <tr>\n",
       "        <td>4422</td>\n",
       "    </tr>\n",
       "    <tr>\n",
       "        <td>5555</td>\n",
       "    </tr>\n",
       "    <tr>\n",
       "        <td>7899</td>\n",
       "    </tr>\n",
       "    <tr>\n",
       "        <td>9981</td>\n",
       "    </tr>\n",
       "    <tr>\n",
       "        <td>8675309</td>\n",
       "    </tr>\n",
       "</table>"
      ],
      "text/plain": [
       "[(1234,), (4422,), (5555,), (7899,), (9981,), (8675309,)]"
      ]
     },
     "execution_count": 10,
     "metadata": {},
     "output_type": "execute_result"
    }
   ],
   "source": [
    "%%sql\n",
    "\n",
    "select studentid FROM students WHERE state IN ('CA','WA','OR')"
   ]
  },
  {
   "cell_type": "markdown",
   "metadata": {
    "deletable": true,
    "editable": true
   },
   "source": [
    "Question 2:\n",
    "\n",
    "Find the composite score (best in each category) for each student"
   ]
  },
  {
   "cell_type": "code",
   "execution_count": 15,
   "metadata": {
    "collapsed": false
   },
   "outputs": [
    {
     "name": "stdout",
     "output_type": "stream",
     "text": [
      "(sqlite3.OperationalError) near \"studentid\": syntax error [SQL: u'select studentid, MAX(math),MAX(verbal) as v, MAX(writing) GROUPBY studentid as composites FROM scores']\n"
     ]
    }
   ],
   "source": [
    "%%sql\n",
    "select studentid, MAX(math),MAX(verbal) as v, MAX(writing) GROUPBY studentid as composites FROM scores"
   ]
  },
  {
   "cell_type": "markdown",
   "metadata": {
    "deletable": true,
    "editable": true
   },
   "source": [
    "Question 3:\n",
    "\n",
    "Ok, done with the warm up stuff.  Now find the most recent math score for each student"
   ]
  },
  {
   "cell_type": "code",
   "execution_count": 16,
   "metadata": {
    "collapsed": false
   },
   "outputs": [
    {
     "name": "stdout",
     "output_type": "stream",
     "text": [
      "(sqlite3.OperationalError) ambiguous column name: studentid [SQL: u'select studentid,name,MAX(datetaken) FROM students,scores WHERE students.studentid = scores.studentid']\n"
     ]
    }
   ],
   "source": [
    "%%sql\n",
    "select studentid,name,MAX(datetaken) FROM students,scores WHERE students.studentid = scores.studentid "
   ]
  },
  {
   "cell_type": "code",
   "execution_count": 20,
   "metadata": {
    "collapsed": false
   },
   "outputs": [
    {
     "name": "stdout",
     "output_type": "stream",
     "text": [
      "(sqlite3.OperationalError) near \"GROUPBY\": syntax error [SQL: u'select students.studentid, name, math FROM students JOIN scores \\nON students.studentid = scores.studentid \\nGROUPBY students.studentid\\nHAVING datetaken = MAX(datetaken)']\n"
     ]
    }
   ],
   "source": [
    "%%sql\n",
    "select students.studentid, name, math FROM students JOIN scores \n",
    "ON students.studentid = scores.studentid \n",
    "GROUPBY students.studentid\n",
    "HAVING datetaken = MAX(datetaken)"
   ]
  },
  {
   "cell_type": "markdown",
   "metadata": {
    "deletable": true,
    "editable": true
   },
   "source": [
    "Note that these next two assume that you were asked the previous three, otherwise they'd be cruel to ask in an interview (they build on these answers)"
   ]
  },
  {
   "cell_type": "code",
   "execution_count": null,
   "metadata": {
    "collapsed": true
   },
   "outputs": [],
   "source": [
    "#NORMAL internview you won't get following questions"
   ]
  },
  {
   "cell_type": "markdown",
   "metadata": {
    "deletable": true,
    "editable": true
   },
   "source": [
    "Question 4:\n",
    "\n",
    "Find the average best verbal (so, best for each student, then averaged over students) score (two separate queries):\n",
    " - for each age (which presumably correlates with grade level)\n",
    " - for each state"
   ]
  },
  {
   "cell_type": "markdown",
   "metadata": {
    "deletable": true,
    "editable": true
   },
   "source": [
    "Question 5:\n",
    "\n",
    "List all states with (separate queries):\n",
    " - any math score above 700\n",
    " - an average best math score above 650"
   ]
  },
  {
   "cell_type": "markdown",
   "metadata": {
    "deletable": true,
    "editable": true
   },
   "source": [
    "Solutions appear below.  No peeking!  \n",
    "*  \n",
    "*  \n",
    "*  \n",
    "*  \n",
    "*  \n",
    "*  \n",
    "*  \n",
    "*  \n",
    "*  \n",
    "*  \n",
    "*  \n",
    "*  \n",
    "*  \n",
    "*  \n",
    "*  \n",
    "*  \n",
    "*  \n",
    "*  \n",
    "*  \n"
   ]
  },
  {
   "cell_type": "markdown",
   "metadata": {
    "deletable": true,
    "editable": true
   },
   "source": [
    "### Question 1"
   ]
  },
  {
   "cell_type": "code",
   "execution_count": null,
   "metadata": {
    "collapsed": true,
    "deletable": true,
    "editable": true
   },
   "outputs": [],
   "source": [
    "%%sql\n",
    "\n",
    "SELECT count(*) FROM students WHERE state in ('CA','WA','OR');\n"
   ]
  },
  {
   "cell_type": "markdown",
   "metadata": {
    "deletable": true,
    "editable": true
   },
   "source": [
    "### Question 2"
   ]
  },
  {
   "cell_type": "code",
   "execution_count": null,
   "metadata": {
    "collapsed": true,
    "deletable": true,
    "editable": true
   },
   "outputs": [],
   "source": [
    "%%sql\n",
    "\n",
    "SELECT studentid, MAX(math), MAX(verbal), MAX(writing),  \n",
    "MAX(math) + MAX(verbal) + MAX(writing) AS composite\n",
    "FROM scores GROUP BY 1;"
   ]
  },
  {
   "cell_type": "markdown",
   "metadata": {
    "deletable": true,
    "editable": true
   },
   "source": [
    "### Question 3"
   ]
  },
  {
   "cell_type": "code",
   "execution_count": null,
   "metadata": {
    "collapsed": true,
    "deletable": true,
    "editable": true
   },
   "outputs": [],
   "source": [
    "%%sql\n",
    "\n",
    "SELECT studentid, math FROM (SELECT * FROM (SELECT studentid, MAX(datetaken) AS recent FROM scores \n",
    "                                   WHERE math IS NOT NULL GROUP BY 1) AS a \n",
    "JOIN scores ON a.studentid = scores.studentid AND a.recent = scores.datetaken)"
   ]
  },
  {
   "cell_type": "markdown",
   "metadata": {
    "deletable": true,
    "editable": true
   },
   "source": [
    "### Question 4"
   ]
  },
  {
   "cell_type": "code",
   "execution_count": null,
   "metadata": {
    "collapsed": true,
    "deletable": true,
    "editable": true
   },
   "outputs": [],
   "source": [
    "%%sql\n",
    "\n",
    "WITH best AS (SELECT studentid, MAX(math) AS bestmath, MAX(verbal) AS bestverbal, \n",
    "              MAX(writing) AS bestwriting FROM scores GROUP BY 1)\n",
    "SELECT state, AVG(bestmath) FROM students join best ON students.studentid = best.studentid\n",
    "GROUP BY 1"
   ]
  },
  {
   "cell_type": "code",
   "execution_count": null,
   "metadata": {
    "collapsed": true,
    "deletable": true,
    "editable": true,
    "scrolled": false
   },
   "outputs": [],
   "source": [
    "%%sql\n",
    "\n",
    "WITH best AS (SELECT studentid, MAX(math) AS bestmath, MAX(verbal) AS bestverbal, \n",
    "              MAX(writing) AS bestwriting FROM scores GROUP BY 1)\n",
    "SELECT age, AVG(bestmath) FROM students join best ON students.studentid = best.studentid\n",
    "GROUP BY 1"
   ]
  },
  {
   "cell_type": "markdown",
   "metadata": {
    "deletable": true,
    "editable": true
   },
   "source": [
    "### Question 5"
   ]
  },
  {
   "cell_type": "code",
   "execution_count": null,
   "metadata": {
    "collapsed": true,
    "deletable": true,
    "editable": true
   },
   "outputs": [],
   "source": [
    "%%sql\n",
    "\n",
    "SELECT distinct state FROM students join scores ON students.studentid = scores.studentid\n",
    "WHERE math > 700"
   ]
  },
  {
   "cell_type": "code",
   "execution_count": null,
   "metadata": {
    "collapsed": true,
    "deletable": true,
    "editable": true
   },
   "outputs": [],
   "source": [
    "%%sql\n",
    "\n",
    "WITH best AS (SELECT studentid, MAX(math) AS bestmath, MAX(verbal) AS bestverbal, \n",
    "              MAX(writing) AS bestwriting FROM scores GROUP BY 1)\n",
    "SELECT state, AVG(bestmath) FROM students join best ON students.studentid = best.studentid\n",
    "GROUP BY 1\n",
    "HAVING AVG(bestmath) > 650"
   ]
  },
  {
   "cell_type": "markdown",
   "metadata": {
    "deletable": true,
    "editable": true
   },
   "source": [
    "*Copyright &copy; 2017 The Data Incubator.  All rights reserved.*"
   ]
  }
 ],
 "metadata": {
  "kernelspec": {
   "display_name": "Python 2",
   "language": "python",
   "name": "python2"
  },
  "language_info": {
   "codemirror_mode": {
    "name": "ipython",
    "version": 2
   },
   "file_extension": ".py",
   "mimetype": "text/x-python",
   "name": "python",
   "nbconvert_exporter": "python",
   "pygments_lexer": "ipython2",
   "version": "2.7.13"
  }
 },
 "nbformat": 4,
 "nbformat_minor": 2
}
